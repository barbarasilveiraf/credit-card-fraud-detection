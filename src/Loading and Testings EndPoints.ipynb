{
 "cells": [
  {
   "cell_type": "code",
   "execution_count": 2,
   "metadata": {},
   "outputs": [],
   "source": [
    "%matplotlib inline\n",
    "import numpy as np\n",
    "import pandas as pd\n",
    "import matplotlib.pyplot as plt\n",
    "from sklearn.metrics import *\n",
    "import seaborn as sns\n",
    "import matplotlib.pyplot as plt\n",
    "import numpy as np\n",
    "\n",
    "import boto3\n",
    "from sagemaker import get_execution_role\n",
    "import sagemaker\n",
    "from sagemaker.predictor import csv_serializer, json_deserializer"
   ]
  },
  {
   "cell_type": "markdown",
   "metadata": {},
   "source": [
    "# Load data"
   ]
  },
  {
   "cell_type": "code",
   "execution_count": 3,
   "metadata": {},
   "outputs": [],
   "source": [
    "df_teste = pd.read_csv(\"s3://workshop-pucminas-wcdbda/datasets/validation/data.csv\", header=None)"
   ]
  },
  {
   "cell_type": "code",
   "execution_count": 4,
   "metadata": {},
   "outputs": [
    {
     "data": {
      "text/plain": [
       "(85442, 31)"
      ]
     },
     "execution_count": 4,
     "metadata": {},
     "output_type": "execute_result"
    }
   ],
   "source": [
    "df_teste.shape"
   ]
  },
  {
   "cell_type": "code",
   "execution_count": 5,
   "metadata": {},
   "outputs": [
    {
     "data": {
      "text/plain": [
       "0.0    85299\n",
       "1.0      143\n",
       "Name: 0, dtype: int64"
      ]
     },
     "execution_count": 5,
     "metadata": {},
     "output_type": "execute_result"
    }
   ],
   "source": [
    "df_teste[0].value_counts()"
   ]
  },
  {
   "cell_type": "code",
   "execution_count": 6,
   "metadata": {},
   "outputs": [],
   "source": [
    "X_test = df_teste.iloc[:,1:]\n",
    "y_test_true = df_teste.iloc[:,0].values"
   ]
  },
  {
   "cell_type": "markdown",
   "metadata": {},
   "source": [
    "# Pipeline Testes"
   ]
  },
  {
   "cell_type": "code",
   "execution_count": 12,
   "metadata": {},
   "outputs": [],
   "source": [
    "def get_predictions(X_test, batch=100):\n",
    "    predictions = []\n",
    "    for test in np.array_split(X_test,batch):\n",
    "        #break\n",
    "        result = predictor.predict(test.values)\n",
    "        result = result.decode(\"utf-8\")\n",
    "        result = result.split(',')\n",
    "        #print (test.shape)\n",
    "        predictions += [float(r) for r in result]\n",
    "    return predictions"
   ]
  },
  {
   "cell_type": "code",
   "execution_count": 42,
   "metadata": {},
   "outputs": [],
   "source": [
    "def metricas_classificacao(y_true, y_pred, classes, normalize=False, title=\"Matriz de confusão\"):\n",
    "    resultados = {'matriz confusão': confusion_matrix(y_true, y_pred),\n",
    "                  'acurácia': round(accuracy_score(y_true, y_pred),4),\n",
    "                  'f1 score': round(f1_score(y_true, y_pred),4),\n",
    "                  'precision': round(precision_score(y_true, y_pred),4),\n",
    "                  'recall': round(recall_score(y_true, y_pred),4),\n",
    "                  'roc auc': round(roc_auc_score(y_true, y_pred),4)\n",
    "                 }        \n",
    "    return resultados"
   ]
  },
  {
   "cell_type": "code",
   "execution_count": 38,
   "metadata": {},
   "outputs": [],
   "source": [
    "def plot_confusion_matrix(y_test_true, predictions):\n",
    "    sns.heatmap(confusion_matrix(y_test_true, predictions),annot=True,cbar=False, cmap='Blues', fmt='g')\n",
    "    plt.ylabel(\"True Values\")\n",
    "    plt.xlabel(\"Predicted Values\")\n",
    "    plt.title(\"CONFUSSION MATRIX VISUALIZATION\")\n",
    "    plt.figure(figsize=(8,8))\n",
    "    plt.show()"
   ]
  },
  {
   "cell_type": "code",
   "execution_count": 43,
   "metadata": {
    "scrolled": true
   },
   "outputs": [
    {
     "name": "stdout",
     "output_type": "stream",
     "text": [
      "ENDPOINT  xgboost-data-default\n",
      "Loading endpoint...\n",
      "Predictions...\n",
      "Metrics...\n"
     ]
    },
    {
     "data": {
      "image/png": "[encoded data removed]",
      "text/plain": [
       "<Figure size 432x288 with 1 Axes>"
      ]
     },
     "metadata": {},
     "output_type": "display_data"
    },
    {
     "data": {
      "text/plain": [
       "<Figure size 576x576 with 0 Axes>"
      ]
     },
     "metadata": {},
     "output_type": "display_data"
    },
    {
     "name": "stdout",
     "output_type": "stream",
     "text": [
      "ENDPOINT  xgboost-data-under\n",
      "Loading endpoint...\n",
      "Predictions...\n",
      "Metrics...\n"
     ]
    },
    {
     "data": {
      "image/png": "[encoded data removed]",
      "text/plain": [
       "<Figure size 432x288 with 1 Axes>"
      ]
     },
     "metadata": {},
     "output_type": "display_data"
    },
    {
     "data": {
      "text/plain": [
       "<Figure size 576x576 with 0 Axes>"
      ]
     },
     "metadata": {},
     "output_type": "display_data"
    },
    {
     "name": "stdout",
     "output_type": "stream",
     "text": [
      "ENDPOINT  xgboost-data-smote\n",
      "Loading endpoint...\n",
      "Predictions...\n",
      "Metrics...\n"
     ]
    },
    {
     "data": {
      "image/png": "[encoded data removed]",
      "text/plain": [
       "<Figure size 432x288 with 1 Axes>"
      ]
     },
     "metadata": {},
     "output_type": "display_data"
    },
    {
     "data": {
      "text/plain": [
       "<Figure size 576x576 with 0 Axes>"
      ]
     },
     "metadata": {},
     "output_type": "display_data"
    }
   ],
   "source": [
    "endpoints_names = [\"xgboost-data-default\", \"xgboost-data-under\", \"xgboost-data-smote\"]\n",
    "results = {}\n",
    "for endpoint in endpoints_names:\n",
    "    print(\"ENDPOINT \", endpoint)\n",
    "    print(\"Loading endpoint...\")\n",
    "    predictor = sagemaker.predictor.RealTimePredictor(endpoint=endpoint)\n",
    "    predictor.content_type = 'text/csv'\n",
    "    predictor.serializer = csv_serializer\n",
    "    predictor.deserializer = None\n",
    "    print(\"Predictions...\")\n",
    "    predictions = get_predictions(X_test)\n",
    "    print(\"Metrics...\")\n",
    "    resultados_metricas = metricas_classificacao(y_test_true, predictions, [0,1])\n",
    "    \n",
    "    results[endpoint] = {\"predictions\": predictions, \"metricas\":resultados_metricas}\n",
    "    \n",
    "    plot_confusion_matrix(y_test_true, predictions)"
   ]
  },
  {
   "cell_type": "code",
   "execution_count": 44,
   "metadata": {},
   "outputs": [
    {
     "name": "stdout",
     "output_type": "stream",
     "text": [
      "xgboost-data-default\n",
      "matriz confusão = [[84702   597]\n",
      " [   17   126]]\n",
      "acurácia = 0.9928\n",
      "f1 score = 0.291\n",
      "precision = 0.1743\n",
      "recall = 0.8811\n",
      "roc auc = 0.9371\n",
      "-------------\n",
      "xgboost-data-under\n",
      "matriz confusão = [[83803  1496]\n",
      " [   14   129]]\n",
      "acurácia = 0.9823\n",
      "f1 score = 0.1459\n",
      "precision = 0.0794\n",
      "recall = 0.9021\n",
      "roc auc = 0.9423\n",
      "-------------\n",
      "xgboost-data-smote\n",
      "matriz confusão = [[84760   539]\n",
      " [   16   127]]\n",
      "acurácia = 0.9935\n",
      "f1 score = 0.314\n",
      "precision = 0.1907\n",
      "recall = 0.8881\n",
      "roc auc = 0.9409\n",
      "-------------\n"
     ]
    }
   ],
   "source": [
    "for model in results.keys():\n",
    "    print(model)\n",
    "    for m in results[model][\"metricas\"].keys():\n",
    "        print(m, \"=\",results[model][\"metricas\"][m])\n",
    "    print(\"-------------\")"
   ]
  },
  {
   "cell_type": "code",
   "execution_count": null,
   "metadata": {},
   "outputs": [],
   "source": []
  }
 ],
 "metadata": {
  "kernelspec": {
   "display_name": "conda_python3",
   "language": "python",
   "name": "conda_python3"
  }
 },
 "nbformat": 4,
 "nbformat_minor": 2
}
